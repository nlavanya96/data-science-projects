# -*- coding: utf-8 -*-
"""
Created on Thu Mar 11 10:54:38 2021

@author: Lavanya
"""

# This notebook is going to be focused on solving the problem of predicting house prices for house buyers and house sellers.

# House value is determined by a variety of different factors such as location and square footage. By taking advantage of all of the feature variables available, machine learning models can be used to analyze and predict house prices.

# The following steps will be taken in this process:

# * Loading Data and Packages
# * Analyzing the Test Variable (Sale Price)
# * Performing Multivariable Analysis
# * Imputing Missing Data and Clean Data
# * Transforming Features
# * Modeling and Predicting